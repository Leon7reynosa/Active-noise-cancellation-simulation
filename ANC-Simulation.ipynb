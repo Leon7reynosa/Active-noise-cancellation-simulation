{
 "cells": [
  {
   "cell_type": "markdown",
   "id": "c52d5b6d-d4a9-49e8-a8cd-6ebeda397b43",
   "metadata": {},
   "source": [
    "# Active Noise Cancellation - Simulation\n"
   ]
  },
  {
   "cell_type": "markdown",
   "id": "dccb59de-5cb3-4cb6-b357-0bfc706d4a21",
   "metadata": {},
   "source": [
    "### Introducción\n",
    "introduccir del TP la explicación de ANC"
   ]
  },
  {
   "cell_type": "markdown",
   "id": "cdb9e613-b755-4c42-ac59-a4c05e272623",
   "metadata": {},
   "source": [
    "### Objetivo y alcance\n",
    "Para este proyecto vamos a realizar la simulación de un sistema de control de audio para llevar a cabo la cancelación activa de ruido. Para realizar este desarrollo vamos a implementar los conceptos estudiados en la materia de Teoría de control, dictada por la Universidad Tecnologica Nacional.\n",
    "El objetivo principal va a ser lograr obtener las ondas senoidales de sonidos opuestas de distintos ruidos ambientes, estos sonidos ambientes los vamos a obtener de un dataset de acceso público.  \n",
    "Al realizar este proyecto nos vamos a encontrar con ciertas limitantes que van a acotar el alcance del proyecto. A continuación se listan los puntos limitantes que dan lugar al alcance del trabajo:"
   ]
  },
  {
   "cell_type": "markdown",
   "id": "b0756557-9afa-4d45-b512-c9a203b72fac",
   "metadata": {},
   "source": [
    "### Implementación"
   ]
  },
  {
   "cell_type": "markdown",
   "id": "6a10f0e6-9012-4e7f-8cbc-a880d316069e",
   "metadata": {},
   "source": [
    "Primero vamos a armar nuestro caso de prueba, donde vamos a generar un sonido en base a su onda senoidal, definiendo amplitud, frecuencia y fase."
   ]
  },
  {
   "cell_type": "code",
   "execution_count": 10,
   "id": "8eeed464-6880-411f-ae8c-3962072d8d94",
   "metadata": {},
   "outputs": [
    {
     "name": "stdout",
     "output_type": "stream",
     "text": [
      "Defaulting to user installation because normal site-packages is not writeable"
     ]
    },
    {
     "name": "stderr",
     "output_type": "stream",
     "text": [
      "  WARNING: The scripts fonttools.exe, pyftmerge.exe, pyftsubset.exe and ttx.exe are installed in 'C:\\Users\\Leon\\AppData\\Roaming\\Python\\Python311\\Scripts' which is not on PATH.\n",
      "  Consider adding this directory to PATH or, if you prefer to suppress this warning, use --no-warn-script-location.\n"
     ]
    },
    {
     "name": "stdout",
     "output_type": "stream",
     "text": [
      "\n",
      "Collecting matplotlib\n",
      "  Downloading matplotlib-3.8.2-cp311-cp311-win_amd64.whl.metadata (5.9 kB)\n",
      "Collecting contourpy>=1.0.1 (from matplotlib)\n",
      "  Downloading contourpy-1.2.0-cp311-cp311-win_amd64.whl.metadata (5.8 kB)\n",
      "Collecting cycler>=0.10 (from matplotlib)\n",
      "  Downloading cycler-0.12.1-py3-none-any.whl.metadata (3.8 kB)\n",
      "Collecting fonttools>=4.22.0 (from matplotlib)\n",
      "  Downloading fonttools-4.46.0-cp311-cp311-win_amd64.whl.metadata (159 kB)\n",
      "     ---------------------------------------- 0.0/159.4 kB ? eta -:--:--\n",
      "     -- ------------------------------------- 10.2/159.4 kB ? eta -:--:--\n",
      "     --------------- ----------------------- 61.4/159.4 kB 1.1 MB/s eta 0:00:01\n",
      "     ------------------------------------ - 153.6/159.4 kB 1.5 MB/s eta 0:00:01\n",
      "     -------------------------------------- 159.4/159.4 kB 1.2 MB/s eta 0:00:00\n",
      "Collecting kiwisolver>=1.3.1 (from matplotlib)\n",
      "  Downloading kiwisolver-1.4.5-cp311-cp311-win_amd64.whl.metadata (6.5 kB)\n",
      "Requirement already satisfied: numpy<2,>=1.21 in c:\\users\\leon\\appdata\\roaming\\python\\python311\\site-packages (from matplotlib) (1.26.2)\n",
      "Requirement already satisfied: packaging>=20.0 in c:\\users\\leon\\appdata\\roaming\\python\\python311\\site-packages (from matplotlib) (23.2)\n",
      "Collecting pillow>=8 (from matplotlib)\n",
      "  Downloading Pillow-10.1.0-cp311-cp311-win_amd64.whl.metadata (9.6 kB)\n",
      "Collecting pyparsing>=2.3.1 (from matplotlib)\n",
      "  Downloading pyparsing-3.1.1-py3-none-any.whl.metadata (5.1 kB)\n",
      "Requirement already satisfied: python-dateutil>=2.7 in c:\\users\\leon\\appdata\\roaming\\python\\python311\\site-packages (from matplotlib) (2.8.2)\n",
      "Requirement already satisfied: six>=1.5 in c:\\users\\leon\\appdata\\roaming\\python\\python311\\site-packages (from python-dateutil>=2.7->matplotlib) (1.16.0)\n",
      "Downloading matplotlib-3.8.2-cp311-cp311-win_amd64.whl (7.6 MB)\n",
      "   ---------------------------------------- 0.0/7.6 MB ? eta -:--:--\n",
      "   - -------------------------------------- 0.3/7.6 MB 15.4 MB/s eta 0:00:01\n",
      "   ------- -------------------------------- 1.4/7.6 MB 14.6 MB/s eta 0:00:01\n",
      "   -------------- ------------------------- 2.7/7.6 MB 17.3 MB/s eta 0:00:01\n",
      "   -------------------- ------------------- 4.0/7.6 MB 19.3 MB/s eta 0:00:01\n",
      "   -------------------- ------------------- 4.0/7.6 MB 19.3 MB/s eta 0:00:01\n",
      "   -------------------- ------------------- 4.0/7.6 MB 19.3 MB/s eta 0:00:01\n",
      "   ---------------------------------------  7.6/7.6 MB 24.4 MB/s eta 0:00:01\n",
      "   ---------------------------------------- 7.6/7.6 MB 22.2 MB/s eta 0:00:00\n",
      "Downloading contourpy-1.2.0-cp311-cp311-win_amd64.whl (187 kB)\n",
      "   ---------------------------------------- 0.0/187.6 kB ? eta -:--:--\n",
      "   --------------------------------------- 187.6/187.6 kB 11.1 MB/s eta 0:00:00\n",
      "Downloading cycler-0.12.1-py3-none-any.whl (8.3 kB)\n",
      "Downloading fonttools-4.46.0-cp311-cp311-win_amd64.whl (2.2 MB)\n",
      "   ---------------------------------------- 0.0/2.2 MB ? eta -:--:--\n",
      "   ----------------------------------- ---- 1.9/2.2 MB 41.0 MB/s eta 0:00:01\n",
      "   ---------------------------------------- 2.2/2.2 MB 34.4 MB/s eta 0:00:00\n",
      "Downloading kiwisolver-1.4.5-cp311-cp311-win_amd64.whl (56 kB)\n",
      "   ---------------------------------------- 0.0/56.1 kB ? eta -:--:--\n",
      "   ---------------------------------------- 56.1/56.1 kB 2.9 MB/s eta 0:00:00\n",
      "Downloading Pillow-10.1.0-cp311-cp311-win_amd64.whl (2.6 MB)\n",
      "   ---------------------------------------- 0.0/2.6 MB ? eta -:--:--\n",
      "   -------------------- ------------------- 1.3/2.6 MB 27.7 MB/s eta 0:00:01\n",
      "   --------------------- ------------------ 1.4/2.6 MB 21.6 MB/s eta 0:00:01\n",
      "   ------------------------------------ --- 2.4/2.6 MB 19.0 MB/s eta 0:00:01\n",
      "   ---------------------------------------- 2.6/2.6 MB 15.1 MB/s eta 0:00:00\n",
      "Downloading pyparsing-3.1.1-py3-none-any.whl (103 kB)\n",
      "   ---------------------------------------- 0.0/103.1 kB ? eta -:--:--\n",
      "   ---------------------------------------- 103.1/103.1 kB 3.0 MB/s eta 0:00:00\n",
      "Installing collected packages: pyparsing, pillow, kiwisolver, fonttools, cycler, contourpy, matplotlib\n",
      "Successfully installed contourpy-1.2.0 cycler-0.12.1 fonttools-4.46.0 kiwisolver-1.4.5 matplotlib-3.8.2 pillow-10.1.0 pyparsing-3.1.1\n"
     ]
    }
   ],
   "source": [
    "!pip install matplotlib\n",
    "!pip install numpy"
   ]
  },
  {
   "cell_type": "code",
   "execution_count": 37,
   "id": "2a6ece0c-005f-448a-9e7a-657c14cf53a5",
   "metadata": {},
   "outputs": [
    {
     "name": "stdout",
     "output_type": "stream",
     "text": [
      "Played sound for 10.03 seconds\n"
     ]
    }
   ],
   "source": [
    "import time\n",
    "import numpy as np\n",
    "import pyaudio\n",
    "\n",
    "p = pyaudio.PyAudio()\n",
    "\n",
    "volume = 0.5  # rango [0.0, 1.0]\n",
    "fs = 44100  # sampling rate, Hz, must be integer\n",
    "duration = 10.0  # duracion del sonido\n",
    "f = 440.0  # frecuencia senoidal - medida en Hz\n",
    "ampl = 2\n",
    "\n",
    "# generate samples, note conversion to float32 array\n",
    "samples = (np.sin(ampl * np.pi * np.arange(fs * duration) * f / fs)).astype(np.float32)\n",
    "\n",
    "# per @yahweh comment explicitly convert to bytes sequence\n",
    "output_bytes = (volume * samples).tobytes()\n",
    "\n",
    "# for paFloat32 sample values must be in range [-1.0, 1.0]\n",
    "stream = p.open(format=pyaudio.paFloat32,\n",
    "                channels=1,\n",
    "                rate=fs,\n",
    "                output=True)\n",
    "\n",
    "# play. May repeat with different volume values (if done interactively)\n",
    "start_time = time.time()\n",
    "stream.write(output_bytes)\n",
    "print(\"Played sound for {:.2f} seconds\".format(time.time() - start_time))\n",
    "\n",
    "stream.stop_stream()\n",
    "stream.close()\n",
    "\n",
    "p.terminate()"
   ]
  },
  {
   "cell_type": "markdown",
   "id": "4d62f8b7-cd3b-4001-80c6-e877b738f808",
   "metadata": {},
   "source": [
    "El sonido que se escucha al ejecutar el bloque anterior, va a ser nuestra simulación de ruido ambiente. Si bien este sonido está en condiciones ideales, nos va a servir a modo de ejemplo.  \n",
    "A continuación se observa la onda senoidal que genera este sonido:"
   ]
  },
  {
   "cell_type": "code",
   "execution_count": 53,
   "id": "b7b559cd-d4a0-4e02-8f9a-239684682b74",
   "metadata": {},
   "outputs": [
    {
     "data": {
      "image/png": "[encoded data removed]",
      "text/plain": [
       "<Figure size 1400x300 with 1 Axes>"
      ]
     },
     "metadata": {},
     "output_type": "display_data"
    }
   ],
   "source": [
    "import numpy as np\n",
    "\n",
    "import matplotlib.pyplot as plot\n",
    "\n",
    "# Get x values of the sine wave\n",
    "time = np.arange(0, 10, 0.1);\n",
    "\n",
    "# Amplitude of the sine wave is sine of a variable like time\n",
    "amplitude   = np.sin(time)\n",
    "\n",
    "plot.figure(figsize=(14, 3))\n",
    "\n",
    "# Plot a sine wave using time and amplitude obtained for the sine wave\n",
    "plot.plot(time, amplitude)\n",
    "\n",
    "# Give a title for the sine wave plot\n",
    "plot.title('Sine wave')\n",
    "\n",
    "# Give x axis label for the sine wave plot\n",
    "plot.xlabel('Time')\n",
    "\n",
    "# Give y axis label for the sine wave plot\n",
    "plot.ylabel('Amplitude = sin(time)')\n",
    "\n",
    "plot.grid(True, which='both')\n",
    "plot.axhline(y=0, color='k')\n",
    "plot.show()"
   ]
  },
  {
   "cell_type": "code",
   "execution_count": null,
   "id": "2264b496-a664-4472-b2d4-1c2b77599e1d",
   "metadata": {},
   "outputs": [],
   "source": []
  },
  {
   "cell_type": "code",
   "execution_count": null,
   "id": "08e2d27a-a4ee-4317-970a-76e6b76db52d",
   "metadata": {},
   "outputs": [],
   "source": []
  }
 ],
 "metadata": {
  "kernelspec": {
   "display_name": "Python 3 (ipykernel)",
   "language": "python",
   "name": "python3"
  },
  "language_info": {
   "codemirror_mode": {
    "name": "ipython",
    "version": 3
   },
   "file_extension": ".py",
   "mimetype": "text/x-python",
   "name": "python",
   "nbconvert_exporter": "python",
   "pygments_lexer": "ipython3",
   "version": "3.11.7"
  }
 },
 "nbformat": 4,
 "nbformat_minor": 5
}
